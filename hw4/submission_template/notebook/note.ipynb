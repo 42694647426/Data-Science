{
 "cells": [
  {
   "cell_type": "code",
   "execution_count": 10,
   "metadata": {},
   "outputs": [
    {
     "name": "stdout",
     "output_type": "stream",
     "text": [
      "1887577\n",
      "1704276\n",
      "1696129\n"
     ]
    }
   ],
   "source": [
    "import pandas as pd\n",
    "import os\n",
    "import sys\n",
    "# old_stdout = sys.stdout\n",
    "# sys.stdout = open('/home/annas/comp598-2021/hw4/submission_template/stdout.txt', 'w')\n",
    "# abs_path= os.path.abspath(\"requirements.txt\")\n",
    "# data_path = os.path.join(os.path.dirname(abs_path), 'data/trimed.csv')\n",
    "# print(data_path)\n",
    "data = pd.read_csv(\"C:/Users/annas/OneDrive - McGill University/Fall 2021/COMP 598/COMP598-Assignments/hw4/submission_template/data/trimed.csv\",\n",
    " usecols=[0,1,2,8], \n",
    " parse_dates=[1,2], \n",
    " names = ['unique_key', 'created_date', 'closed_date', 'zipcode' ], \n",
    " index_col=False)\n",
    "print(len(data))\n",
    "data = data.dropna()\n",
    "print(len(data))\n",
    "data = data.loc[data[\"closed_date\"] >= data[\"created_date\"]]\n",
    "print(len(data))"
   ]
  },
  {
   "cell_type": "code",
   "execution_count": 11,
   "metadata": {},
   "outputs": [
    {
     "name": "stdout",
     "output_type": "stream",
     "text": [
      "236\n"
     ]
    }
   ],
   "source": [
    "\n",
    "# cols = range(1,42)\n",
    "# data =  pd.read_csv(\"C:/Users/annas/OneDrive - McGill University/Fall 2021/COMP 598/COMP598-Assignments/hw4/submission_template/data/trimed.csv\", names=cols, sep=',', dtype='unicode')\n",
    "#print(data.head(1))\n",
    "print(data['zipcode'].nunique()) # count all non-NA distinct values\n"
   ]
  },
  {
   "cell_type": "code",
   "execution_count": 25,
   "metadata": {},
   "outputs": [],
   "source": [
    "data = pd.read_csv(\"C:/Users/annas/OneDrive - McGill University/Fall 2021/COMP 598/COMP598-Assignments/hw4/submission_template/data/clean_data.csv\")\n",
    "data['created_date'] = pd.to_datetime(data['created_date'])\n",
    "data['closed_date'] = pd.to_datetime(data['closed_date'] )"
   ]
  },
  {
   "cell_type": "code",
   "execution_count": 27,
   "metadata": {},
   "outputs": [
    {
     "name": "stdout",
     "output_type": "stream",
     "text": [
      "datetime64[ns]\n",
      "   unique_key        created_date         closed_date  zipcode\n",
      "0    46920293 2020-07-20 10:51:12 2020-09-05 12:32:48    11234\n",
      "1    46930483 2020-07-21 14:13:58 2020-09-05 13:37:31    11210\n",
      "2    46997111 2020-07-27 12:56:33 2020-09-05 08:51:14    11354\n",
      "3    46583727 2020-06-22 18:17:00 2020-06-23 08:59:00    10451\n",
      "4    46576371 2020-06-21 03:30:00 2020-06-22 21:50:00    10031\n"
     ]
    }
   ],
   "source": [
    "print(data.closed_date.dtype)\n",
    "print(data.head())"
   ]
  },
  {
   "cell_type": "code",
   "execution_count": 60,
   "metadata": {},
   "outputs": [
    {
     "name": "stdout",
     "output_type": "stream",
     "text": [
      "         unique_key        created_date         closed_date  zipcode\n",
      "0          46920293 2020-07-20 10:51:12 2020-09-05 12:32:48    11234\n",
      "1          46930483 2020-07-21 14:13:58 2020-09-05 13:37:31    11210\n",
      "2          46997111 2020-07-27 12:56:33 2020-09-05 08:51:14    11354\n",
      "3          46583727 2020-06-22 18:17:00 2020-06-23 08:59:00    10451\n",
      "4          46576371 2020-06-21 03:30:00 2020-06-22 21:50:00    10031\n",
      "...             ...                 ...                 ...      ...\n",
      "1696124    46816724 2020-07-10 10:34:45 2020-08-26 00:00:00    10075\n",
      "1696125    47117378 2020-08-05 14:55:52 2020-08-13 18:35:49    11221\n",
      "1696126    46830035 2020-07-11 10:53:00 2020-08-21 12:00:00    11421\n",
      "1696127    46874418 2020-07-16 12:00:23 2020-08-30 17:59:47    11691\n",
      "1696128    46876421 2020-07-16 16:55:32 2020-09-05 13:28:38    11226\n",
      "\n",
      "[1696129 rows x 4 columns]\n",
      "   unique_key        created_date         closed_date  zipcode       diff_h\n",
      "0    46920293 2020-07-20 10:51:12 2020-09-05 12:32:48    11234  1129.693333\n",
      "1    46930483 2020-07-21 14:13:58 2020-09-05 13:37:31    11210  1103.392500\n",
      "2    46997111 2020-07-27 12:56:33 2020-09-05 08:51:14    11354   955.911389\n",
      "3    46583727 2020-06-22 18:17:00 2020-06-23 08:59:00    10451    14.700000\n",
      "4    46576371 2020-06-21 03:30:00 2020-06-22 21:50:00    10031    42.333333\n",
      "                 diff_h\n",
      "closed_date            \n",
      "2020-01       39.852758\n",
      "2020-02       70.912960\n",
      "2020-03       82.343669\n",
      "2020-04       78.524512\n",
      "2020-05       93.624943\n",
      "2020-06      111.929047\n",
      "2020-07      106.709947\n",
      "2020-08      122.850844\n",
      "2020-09      170.201880\n"
     ]
    },
    {
     "name": "stderr",
     "output_type": "stream",
     "text": [
      "C:\\Users\\annas\\AppData\\Local\\Temp/ipykernel_15924/596860926.py:8: FutureWarning: Indexing with multiple keys (implicitly converted to a tuple of keys) will be deprecated, use a list instead.\n",
      "  group_by_month = group_by_month.groupby(month)['closed_date', 'diff_h'].mean()\n"
     ]
    }
   ],
   "source": [
    "zipcode = 11210\n",
    "#zip_data = data.loc[data['zipcode'] == zipcode]\n",
    "zip_data = data\n",
    "print(zip_data)\n",
    "month = zip_data.closed_date.dt.to_period(\"M\")\n",
    "group_by_month =  zip_data.assign(diff_h=(zip_data.closed_date - zip_data.created_date).dt.total_seconds()/3600)\n",
    "print(group_by_month.head())\n",
    "group_by_month = group_by_month.groupby(month)['closed_date', 'diff_h'].mean()\n",
    "print(group_by_month)\n"
   ]
  },
  {
   "cell_type": "code",
   "execution_count": 59,
   "metadata": {},
   "outputs": [
    {
     "data": {
      "text/plain": [
       "<AxesSubplot:xlabel='closed_date'>"
      ]
     },
     "execution_count": 59,
     "metadata": {},
     "output_type": "execute_result"
    },
    {
     "data": {
      "image/png": "[encoded data removed]",
      "text/plain": [
       "<Figure size 432x288 with 1 Axes>"
      ]
     },
     "metadata": {
      "needs_background": "light"
     },
     "output_type": "display_data"
    }
   ],
   "source": [
    "group_by_month.plot.line()"
   ]
  }
 ],
 "metadata": {
  "interpreter": {
   "hash": "df642eef7b43fe7a4a517bca7a97690968a466268416ac555ac71584a4a4c66c"
  },
  "kernelspec": {
   "display_name": "Python 3.9.7 64-bit",
   "name": "python3"
  },
  "language_info": {
   "codemirror_mode": {
    "name": "ipython",
    "version": 3
   },
   "file_extension": ".py",
   "mimetype": "text/x-python",
   "name": "python",
   "nbconvert_exporter": "python",
   "pygments_lexer": "ipython3",
   "version": "3.9.7"
  },
  "orig_nbformat": 4
 },
 "nbformat": 4,
 "nbformat_minor": 2
}
