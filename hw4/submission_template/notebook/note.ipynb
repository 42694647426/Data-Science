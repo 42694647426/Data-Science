{
 "cells": [
  {
   "cell_type": "code",
   "execution_count": null,
   "metadata": {},
   "outputs": [],
   "source": [
    "import pandas as pd\n",
    "import os\n",
    "import sys\n",
    "# old_stdout = sys.stdout\n",
    "# sys.stdout = open('/home/annas/comp598-2021/hw4/submission_template/stdout.txt', 'w')\n",
    "\n",
    "cols = range(1,42)\n",
    "data =  pd.read_csv(\"./data/trimed.csv\", names=cols, sep=',', dtype='unicode')\n",
    "#print(data.head(1))\n",
    "print(data[9].nunique()) # count all non-NA distinct values\n"
   ]
  }
 ],
 "metadata": {
  "language_info": {
   "name": "python"
  },
  "orig_nbformat": 4
 },
 "nbformat": 4,
 "nbformat_minor": 2
}
